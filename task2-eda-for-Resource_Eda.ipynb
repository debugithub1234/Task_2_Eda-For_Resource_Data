{
 "cells": [
  {
   "cell_type": "markdown",
   "id": "c26dca62",
   "metadata": {},
   "source": [
    "# 1.'Resource' Data set EDA"
   ]
  },
  {
   "cell_type": "code",
   "execution_count": 1,
   "id": "f2ca6c52",
   "metadata": {},
   "outputs": [
    {
     "name": "stdout",
     "output_type": "stream",
     "text": [
      "Requirement already satisfied: sweetviz in c:\\users\\anirban\\anaconda3\\lib\\site-packages (2.1.4)\n",
      "Requirement already satisfied: scipy>=1.3.2 in c:\\users\\anirban\\anaconda3\\lib\\site-packages (from sweetviz) (1.7.3)\n",
      "Requirement already satisfied: pandas!=1.0.0,!=1.0.1,!=1.0.2,>=0.25.3 in c:\\users\\anirban\\anaconda3\\lib\\site-packages (from sweetviz) (1.4.2)\n",
      "Requirement already satisfied: importlib-resources>=1.2.0 in c:\\users\\anirban\\anaconda3\\lib\\site-packages (from sweetviz) (5.10.0)\n",
      "Requirement already satisfied: tqdm>=4.43.0 in c:\\users\\anirban\\anaconda3\\lib\\site-packages (from sweetviz) (4.64.0)\n",
      "Requirement already satisfied: matplotlib>=3.1.3 in c:\\users\\anirban\\anaconda3\\lib\\site-packages (from sweetviz) (3.5.1)\n",
      "Requirement already satisfied: jinja2>=2.11.1 in c:\\users\\anirban\\anaconda3\\lib\\site-packages (from sweetviz) (2.11.3)\n",
      "Requirement already satisfied: numpy>=1.16.0 in c:\\users\\anirban\\anaconda3\\lib\\site-packages (from sweetviz) (1.21.5)\n",
      "Requirement already satisfied: zipp>=3.1.0 in c:\\users\\anirban\\anaconda3\\lib\\site-packages (from importlib-resources>=1.2.0->sweetviz) (3.7.0)\n",
      "Requirement already satisfied: MarkupSafe>=0.23 in c:\\users\\anirban\\anaconda3\\lib\\site-packages (from jinja2>=2.11.1->sweetviz) (2.0.1)\n",
      "Requirement already satisfied: packaging>=20.0 in c:\\users\\anirban\\anaconda3\\lib\\site-packages (from matplotlib>=3.1.3->sweetviz) (21.3)\n",
      "Requirement already satisfied: pyparsing>=2.2.1 in c:\\users\\anirban\\anaconda3\\lib\\site-packages (from matplotlib>=3.1.3->sweetviz) (3.0.4)\n",
      "Requirement already satisfied: fonttools>=4.22.0 in c:\\users\\anirban\\anaconda3\\lib\\site-packages (from matplotlib>=3.1.3->sweetviz) (4.25.0)\n",
      "Requirement already satisfied: cycler>=0.10 in c:\\users\\anirban\\anaconda3\\lib\\site-packages (from matplotlib>=3.1.3->sweetviz) (0.11.0)\n",
      "Requirement already satisfied: kiwisolver>=1.0.1 in c:\\users\\anirban\\anaconda3\\lib\\site-packages (from matplotlib>=3.1.3->sweetviz) (1.3.2)\n",
      "Requirement already satisfied: pillow>=6.2.0 in c:\\users\\anirban\\anaconda3\\lib\\site-packages (from matplotlib>=3.1.3->sweetviz) (9.0.1)\n",
      "Requirement already satisfied: python-dateutil>=2.7 in c:\\users\\anirban\\anaconda3\\lib\\site-packages (from matplotlib>=3.1.3->sweetviz) (2.8.2)\n",
      "Requirement already satisfied: pytz>=2020.1 in c:\\users\\anirban\\anaconda3\\lib\\site-packages (from pandas!=1.0.0,!=1.0.1,!=1.0.2,>=0.25.3->sweetviz) (2021.3)\n",
      "Requirement already satisfied: six>=1.5 in c:\\users\\anirban\\anaconda3\\lib\\site-packages (from python-dateutil>=2.7->matplotlib>=3.1.3->sweetviz) (1.16.0)\n",
      "Requirement already satisfied: colorama in c:\\users\\anirban\\anaconda3\\lib\\site-packages (from tqdm>=4.43.0->sweetviz) (0.4.4)\n"
     ]
    }
   ],
   "source": [
    "!pip install sweetviz"
   ]
  },
  {
   "cell_type": "code",
   "execution_count": 2,
   "id": "44f00380",
   "metadata": {},
   "outputs": [],
   "source": [
    "import pandas as pd\n",
    "import numpy as np\n",
    "import seaborn as sns\n",
    "import matplotlib.pyplot as plt\n",
    "import sweetviz as sv\n"
   ]
  },
  {
   "cell_type": "code",
   "execution_count": 3,
   "id": "80d664ea",
   "metadata": {},
   "outputs": [
    {
     "data": {
      "text/html": [
       "<div>\n",
       "<style scoped>\n",
       "    .dataframe tbody tr th:only-of-type {\n",
       "        vertical-align: middle;\n",
       "    }\n",
       "\n",
       "    .dataframe tbody tr th {\n",
       "        vertical-align: top;\n",
       "    }\n",
       "\n",
       "    .dataframe thead th {\n",
       "        text-align: right;\n",
       "    }\n",
       "</style>\n",
       "<table border=\"1\" class=\"dataframe\">\n",
       "  <thead>\n",
       "    <tr style=\"text-align: right;\">\n",
       "      <th></th>\n",
       "      <th>%Time</th>\n",
       "      <th>Heat_cons</th>\n",
       "      <th>ElecHigh</th>\n",
       "      <th>ElecLow</th>\n",
       "      <th>CO2_cons</th>\n",
       "      <th>Irr</th>\n",
       "      <th>Drain</th>\n",
       "    </tr>\n",
       "  </thead>\n",
       "  <tbody>\n",
       "    <tr>\n",
       "      <th>0</th>\n",
       "      <td>43815</td>\n",
       "      <td>2.8557</td>\n",
       "      <td>0.844750</td>\n",
       "      <td>0.000000</td>\n",
       "      <td>0.005477</td>\n",
       "      <td>16.2</td>\n",
       "      <td>0.0</td>\n",
       "    </tr>\n",
       "    <tr>\n",
       "      <th>1</th>\n",
       "      <td>43816</td>\n",
       "      <td>1.1328</td>\n",
       "      <td>0.522667</td>\n",
       "      <td>0.000000</td>\n",
       "      <td>0.005503</td>\n",
       "      <td>0.0</td>\n",
       "      <td>0.0</td>\n",
       "    </tr>\n",
       "    <tr>\n",
       "      <th>2</th>\n",
       "      <td>43817</td>\n",
       "      <td>1.1430</td>\n",
       "      <td>0.837000</td>\n",
       "      <td>0.000000</td>\n",
       "      <td>0.011452</td>\n",
       "      <td>0.0</td>\n",
       "      <td>0.0</td>\n",
       "    </tr>\n",
       "    <tr>\n",
       "      <th>3</th>\n",
       "      <td>43818</td>\n",
       "      <td>0.1194</td>\n",
       "      <td>0.864000</td>\n",
       "      <td>0.540000</td>\n",
       "      <td>0.019830</td>\n",
       "      <td>0.0</td>\n",
       "      <td>0.0</td>\n",
       "    </tr>\n",
       "    <tr>\n",
       "      <th>4</th>\n",
       "      <td>43819</td>\n",
       "      <td>0.5727</td>\n",
       "      <td>1.326583</td>\n",
       "      <td>0.550833</td>\n",
       "      <td>0.031044</td>\n",
       "      <td>0.8</td>\n",
       "      <td>0.0</td>\n",
       "    </tr>\n",
       "    <tr>\n",
       "      <th>...</th>\n",
       "      <td>...</td>\n",
       "      <td>...</td>\n",
       "      <td>...</td>\n",
       "      <td>...</td>\n",
       "      <td>...</td>\n",
       "      <td>...</td>\n",
       "      <td>...</td>\n",
       "    </tr>\n",
       "    <tr>\n",
       "      <th>161</th>\n",
       "      <td>43976</td>\n",
       "      <td>0.2694</td>\n",
       "      <td>0.000000</td>\n",
       "      <td>0.000000</td>\n",
       "      <td>0.029262</td>\n",
       "      <td>4.3</td>\n",
       "      <td>2.0</td>\n",
       "    </tr>\n",
       "    <tr>\n",
       "      <th>162</th>\n",
       "      <td>43977</td>\n",
       "      <td>0.3150</td>\n",
       "      <td>0.000000</td>\n",
       "      <td>0.000000</td>\n",
       "      <td>0.023700</td>\n",
       "      <td>4.3</td>\n",
       "      <td>1.9</td>\n",
       "    </tr>\n",
       "    <tr>\n",
       "      <th>163</th>\n",
       "      <td>43978</td>\n",
       "      <td>0.2616</td>\n",
       "      <td>0.000000</td>\n",
       "      <td>0.000000</td>\n",
       "      <td>0.029766</td>\n",
       "      <td>4.3</td>\n",
       "      <td>1.7</td>\n",
       "    </tr>\n",
       "    <tr>\n",
       "      <th>164</th>\n",
       "      <td>43979</td>\n",
       "      <td>0.4665</td>\n",
       "      <td>0.000000</td>\n",
       "      <td>0.000000</td>\n",
       "      <td>0.030178</td>\n",
       "      <td>4.7</td>\n",
       "      <td>1.9</td>\n",
       "    </tr>\n",
       "    <tr>\n",
       "      <th>165</th>\n",
       "      <td>43980</td>\n",
       "      <td>0.4515</td>\n",
       "      <td>0.000000</td>\n",
       "      <td>0.000000</td>\n",
       "      <td>0.034931</td>\n",
       "      <td>4.7</td>\n",
       "      <td>0.9</td>\n",
       "    </tr>\n",
       "  </tbody>\n",
       "</table>\n",
       "<p>166 rows × 7 columns</p>\n",
       "</div>"
      ],
      "text/plain": [
       "     %Time   Heat_cons  ElecHigh   ElecLow  CO2_cons   Irr  Drain\n",
       "0     43815     2.8557  0.844750  0.000000  0.005477  16.2    0.0\n",
       "1     43816     1.1328  0.522667  0.000000  0.005503   0.0    0.0\n",
       "2     43817     1.1430  0.837000  0.000000  0.011452   0.0    0.0\n",
       "3     43818     0.1194  0.864000  0.540000  0.019830   0.0    0.0\n",
       "4     43819     0.5727  1.326583  0.550833  0.031044   0.8    0.0\n",
       "..      ...        ...       ...       ...       ...   ...    ...\n",
       "161   43976     0.2694  0.000000  0.000000  0.029262   4.3    2.0\n",
       "162   43977     0.3150  0.000000  0.000000  0.023700   4.3    1.9\n",
       "163   43978     0.2616  0.000000  0.000000  0.029766   4.3    1.7\n",
       "164   43979     0.4665  0.000000  0.000000  0.030178   4.7    1.9\n",
       "165   43980     0.4515  0.000000  0.000000  0.034931   4.7    0.9\n",
       "\n",
       "[166 rows x 7 columns]"
      ]
     },
     "execution_count": 3,
     "metadata": {},
     "output_type": "execute_result"
    }
   ],
   "source": [
    "df1 = pd.read_csv(\"Resources.csv\")\n",
    "df1"
   ]
  },
  {
   "cell_type": "markdown",
   "id": "0956c023",
   "metadata": {},
   "source": [
    "# Check shape of dataset"
   ]
  },
  {
   "cell_type": "code",
   "execution_count": 4,
   "id": "8d4224bb",
   "metadata": {},
   "outputs": [
    {
     "data": {
      "text/plain": [
       "(166, 7)"
      ]
     },
     "execution_count": 4,
     "metadata": {},
     "output_type": "execute_result"
    }
   ],
   "source": [
    "df1.shape"
   ]
  },
  {
   "cell_type": "markdown",
   "id": "075b161f",
   "metadata": {},
   "source": [
    "# View summary of dataframe"
   ]
  },
  {
   "cell_type": "code",
   "execution_count": 5,
   "id": "3b89aacb",
   "metadata": {},
   "outputs": [
    {
     "name": "stdout",
     "output_type": "stream",
     "text": [
      "<class 'pandas.core.frame.DataFrame'>\n",
      "RangeIndex: 166 entries, 0 to 165\n",
      "Data columns (total 7 columns):\n",
      " #   Column     Non-Null Count  Dtype  \n",
      "---  ------     --------------  -----  \n",
      " 0   %Time      166 non-null    int64  \n",
      " 1   Heat_cons  166 non-null    float64\n",
      " 2   ElecHigh   166 non-null    float64\n",
      " 3   ElecLow    166 non-null    float64\n",
      " 4   CO2_cons   166 non-null    float64\n",
      " 5   Irr        166 non-null    float64\n",
      " 6   Drain      166 non-null    float64\n",
      "dtypes: float64(6), int64(1)\n",
      "memory usage: 9.2 KB\n"
     ]
    }
   ],
   "source": [
    "df1.info()"
   ]
  },
  {
   "cell_type": "code",
   "execution_count": 6,
   "id": "cdcf6d4e",
   "metadata": {},
   "outputs": [],
   "source": [
    "df1[df1 == '?'] = np.nan"
   ]
  },
  {
   "cell_type": "markdown",
   "id": "976f1fe4",
   "metadata": {},
   "source": [
    "# Again check the summary of dataframe"
   ]
  },
  {
   "cell_type": "code",
   "execution_count": 7,
   "id": "1a7304ef",
   "metadata": {},
   "outputs": [
    {
     "name": "stdout",
     "output_type": "stream",
     "text": [
      "<class 'pandas.core.frame.DataFrame'>\n",
      "RangeIndex: 166 entries, 0 to 165\n",
      "Data columns (total 7 columns):\n",
      " #   Column     Non-Null Count  Dtype  \n",
      "---  ------     --------------  -----  \n",
      " 0   %Time      166 non-null    int64  \n",
      " 1   Heat_cons  166 non-null    float64\n",
      " 2   ElecHigh   166 non-null    float64\n",
      " 3   ElecLow    166 non-null    float64\n",
      " 4   CO2_cons   166 non-null    float64\n",
      " 5   Irr        166 non-null    float64\n",
      " 6   Drain      166 non-null    float64\n",
      "dtypes: float64(6), int64(1)\n",
      "memory usage: 9.2 KB\n"
     ]
    }
   ],
   "source": [
    "df1.info()"
   ]
  },
  {
   "cell_type": "markdown",
   "id": "e4521c9e",
   "metadata": {},
   "source": [
    "#  Checking again missing value"
   ]
  },
  {
   "cell_type": "code",
   "execution_count": 8,
   "id": "90b2ff11",
   "metadata": {},
   "outputs": [
    {
     "data": {
      "text/plain": [
       "%Time        0\n",
       "Heat_cons    0\n",
       "ElecHigh     0\n",
       "ElecLow      0\n",
       "CO2_cons     0\n",
       "Irr          0\n",
       "Drain        0\n",
       "dtype: int64"
      ]
     },
     "execution_count": 8,
     "metadata": {},
     "output_type": "execute_result"
    }
   ],
   "source": [
    "df1.isnull().sum()"
   ]
  },
  {
   "cell_type": "markdown",
   "id": "088183c5",
   "metadata": {},
   "source": [
    "#### So result is  without null value "
   ]
  },
  {
   "cell_type": "markdown",
   "id": "019fef24",
   "metadata": {},
   "source": [
    "# Rename the column %Time to Time"
   ]
  },
  {
   "cell_type": "code",
   "execution_count": 9,
   "id": "05e0bf1c",
   "metadata": {},
   "outputs": [],
   "source": [
    "df1.columns = df1.columns.str.replace('%Time', 'Time')"
   ]
  },
  {
   "cell_type": "code",
   "execution_count": 10,
   "id": "8b39b055",
   "metadata": {},
   "outputs": [
    {
     "data": {
      "text/plain": [
       "Index(['Time ', 'Heat_cons', 'ElecHigh', 'ElecLow', 'CO2_cons', 'Irr',\n",
       "       'Drain'],\n",
       "      dtype='object')"
      ]
     },
     "execution_count": 10,
     "metadata": {},
     "output_type": "execute_result"
    }
   ],
   "source": [
    "df1.columns"
   ]
  },
  {
   "cell_type": "code",
   "execution_count": 11,
   "id": "f7c39525",
   "metadata": {},
   "outputs": [
    {
     "name": "stdout",
     "output_type": "stream",
     "text": [
      "<class 'pandas.core.frame.DataFrame'>\n",
      "RangeIndex: 166 entries, 0 to 165\n",
      "Data columns (total 7 columns):\n",
      " #   Column     Non-Null Count  Dtype  \n",
      "---  ------     --------------  -----  \n",
      " 0   Time       166 non-null    int64  \n",
      " 1   Heat_cons  166 non-null    float64\n",
      " 2   ElecHigh   166 non-null    float64\n",
      " 3   ElecLow    166 non-null    float64\n",
      " 4   CO2_cons   166 non-null    float64\n",
      " 5   Irr        166 non-null    float64\n",
      " 6   Drain      166 non-null    float64\n",
      "dtypes: float64(6), int64(1)\n",
      "memory usage: 9.2 KB\n"
     ]
    }
   ],
   "source": [
    "df1.info()"
   ]
  },
  {
   "cell_type": "markdown",
   "id": "70d15274",
   "metadata": {},
   "source": [
    "# Plot Heat map based onn available data"
   ]
  },
  {
   "cell_type": "code",
   "execution_count": 12,
   "id": "3e089e97",
   "metadata": {},
   "outputs": [
    {
     "data": {
      "text/plain": [
       "(7.5, -0.5)"
      ]
     },
     "execution_count": 12,
     "metadata": {},
     "output_type": "execute_result"
    },
    {
     "data": {
      "image/png": "[encoded data removed]",
      "text/plain": [
       "<Figure size 576x576 with 2 Axes>"
      ]
     },
     "metadata": {
      "needs_background": "light"
     },
     "output_type": "display_data"
    }
   ],
   "source": [
    "\n",
    "#annot for value\n",
    "#set_ylim increase bottom 0.5% and decrease to 0.5%\n",
    "v_heat_map= df1.corr()\n",
    "plt.figure(figsize = (8,8))\n",
    "ax= sns.heatmap(v_heat_map,annot = True) \n",
    "bottom,top = ax.get_ylim() \n",
    "ax.set_ylim(bottom + 0.5, top-0.5)"
   ]
  },
  {
   "cell_type": "markdown",
   "id": "b1dd493a",
   "metadata": {},
   "source": [
    "# Let’s see the whole report : "
   ]
  },
  {
   "cell_type": "code",
   "execution_count": 13,
   "id": "0d45280a",
   "metadata": {},
   "outputs": [
    {
     "data": {
      "application/vnd.jupyter.widget-view+json": {
       "model_id": "b30de0e1c4554d7990cc1da6550ade20",
       "version_major": 2,
       "version_minor": 0
      },
      "text/plain": [
       "                                             |                                             | [  0%]   00:00 ->…"
      ]
     },
     "metadata": {},
     "output_type": "display_data"
    }
   ],
   "source": [
    "v_report = sv.analyze(df1)"
   ]
  },
  {
   "cell_type": "code",
   "execution_count": 14,
   "id": "73941e34",
   "metadata": {},
   "outputs": [
    {
     "name": "stdout",
     "output_type": "stream",
     "text": [
      "Report Resources_Report.html was generated! NOTEBOOK/COLAB USERS: the web browser MAY not pop up, regardless, the report IS saved in your notebook/colab files.\n"
     ]
    }
   ],
   "source": [
    "v_report.show_html('Resources_Report.html')"
   ]
  },
  {
   "cell_type": "code",
   "execution_count": null,
   "id": "5b6ce33f",
   "metadata": {},
   "outputs": [],
   "source": []
  }
 ],
 "metadata": {
  "kernelspec": {
   "display_name": "Python 3 (ipykernel)",
   "language": "python",
   "name": "python3"
  },
  "language_info": {
   "codemirror_mode": {
    "name": "ipython",
    "version": 3
   },
   "file_extension": ".py",
   "mimetype": "text/x-python",
   "name": "python",
   "nbconvert_exporter": "python",
   "pygments_lexer": "ipython3",
   "version": "3.9.12"
  }
 },
 "nbformat": 4,
 "nbformat_minor": 5
}
